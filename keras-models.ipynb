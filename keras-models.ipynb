{
 "cells": [
  {
   "cell_type": "code",
   "execution_count": null,
   "metadata": {},
   "outputs": [
    {
     "name": "stderr",
     "output_type": "stream",
     "text": [
      "Using TensorFlow backend.\n"
     ]
    }
   ],
   "source": [
    "import data_preprocessing as dp\n",
    "import numpy as np\n",
    "from keras.models import Sequential\n",
    "from keras.layers import Conv1D, Dense, GlobalMaxPooling1D, Dropout, BatchNormalization, LSTM\n",
    "from tqdm import tqdm"
   ]
  },
  {
   "cell_type": "code",
   "execution_count": 2,
   "metadata": {},
   "outputs": [
    {
     "name": "stderr",
     "output_type": "stream",
     "text": [
      "100%|██████████| 12500/12500 [01:01<00:00, 202.91it/s]\n",
      "100%|██████████| 12500/12500 [01:03<00:00, 197.60it/s]\n",
      "100%|██████████| 12500/12500 [01:07<00:00, 186.01it/s]\n",
      "100%|██████████| 12500/12500 [01:05<00:00, 190.71it/s]\n"
     ]
    }
   ],
   "source": [
    "train_data, test_data, train_labels, test_labels = dp.load_imdb_data()"
   ]
  },
  {
   "cell_type": "code",
   "execution_count": 3,
   "metadata": {},
   "outputs": [
    {
     "name": "stdout",
     "output_type": "stream",
     "text": [
      "CPU times: user 29.8 s, sys: 303 ms, total: 30.1 s\n",
      "Wall time: 30.1 s\n"
     ]
    }
   ],
   "source": [
    "%%time\n",
    "train_tokens, test_tokens = dp.process_data(train_data), dp.process_data(test_data)"
   ]
  },
  {
   "cell_type": "code",
   "execution_count": 4,
   "metadata": {
    "collapsed": true
   },
   "outputs": [],
   "source": [
    "embd = dp.load_embedding_matrix('embeddings')"
   ]
  },
  {
   "cell_type": "code",
   "execution_count": 21,
   "metadata": {
    "collapsed": true
   },
   "outputs": [],
   "source": [
    "model = Sequential()\n",
    "model.add(Conv1D(filters=256, kernel_size=3, padding='valid', input_shape=(140, 100)))\n",
    "model.add(BatchNormalization())\n",
    "model.add(Dropout(0.2))\n",
    "\n",
    "model.add(Conv1D(filters=256, kernel_size=3, padding='valid'))\n",
    "model.add(BatchNormalization())\n",
    "\n",
    "model.add(GlobalMaxPooling1D())\n",
    "\n",
    "model.add(Dense(256, activation='relu'))\n",
    "model.add(Dropout(0.2))\n",
    "\n",
    "model.add(Dense(1, activation='sigmoid'))"
   ]
  },
  {
   "cell_type": "code",
   "execution_count": 22,
   "metadata": {},
   "outputs": [
    {
     "name": "stdout",
     "output_type": "stream",
     "text": [
      "_________________________________________________________________\n",
      "Layer (type)                 Output Shape              Param #   \n",
      "=================================================================\n",
      "conv1d_3 (Conv1D)            (None, 138, 256)          77056     \n",
      "_________________________________________________________________\n",
      "batch_normalization_1 (Batch (None, 138, 256)          1024      \n",
      "_________________________________________________________________\n",
      "dropout_3 (Dropout)          (None, 138, 256)          0         \n",
      "_________________________________________________________________\n",
      "conv1d_4 (Conv1D)            (None, 136, 256)          196864    \n",
      "_________________________________________________________________\n",
      "batch_normalization_2 (Batch (None, 136, 256)          1024      \n",
      "_________________________________________________________________\n",
      "global_max_pooling1d_2 (Glob (None, 256)               0         \n",
      "_________________________________________________________________\n",
      "dense_3 (Dense)              (None, 256)               65792     \n",
      "_________________________________________________________________\n",
      "dropout_4 (Dropout)          (None, 256)               0         \n",
      "_________________________________________________________________\n",
      "dense_4 (Dense)              (None, 1)                 257       \n",
      "=================================================================\n",
      "Total params: 342,017\n",
      "Trainable params: 340,993\n",
      "Non-trainable params: 1,024\n",
      "_________________________________________________________________\n"
     ]
    }
   ],
   "source": [
    "model.summary()"
   ]
  },
  {
   "cell_type": "code",
   "execution_count": 23,
   "metadata": {
    "collapsed": true
   },
   "outputs": [],
   "source": [
    "model.compile(optimizer='adam', loss='binary_crossentropy', metrics=['accuracy'])"
   ]
  },
  {
   "cell_type": "code",
   "execution_count": 24,
   "metadata": {},
   "outputs": [
    {
     "name": "stdout",
     "output_type": "stream",
     "text": [
      "Epoch 1/1\n",
      "250/250 [==============================] - 202s - loss: 0.5096 - acc: 0.7820   \n"
     ]
    }
   ],
   "source": [
    "data_generator = dp.generate_batches(train_tokens, train_labels, 100, embd, 140)\n",
    "\n",
    "history = model.fit_generator(data_generator, 250)"
   ]
  },
  {
   "cell_type": "code",
   "execution_count": 25,
   "metadata": {
    "scrolled": false
   },
   "outputs": [
    {
     "name": "stdout",
     "output_type": "stream",
     "text": [
      "[0.33594644415378572, 0.85327999854087833]\n"
     ]
    }
   ],
   "source": [
    "data_generator = dp.generate_batches(test_tokens, test_labels, 100, embd, 140)\n",
    "\n",
    "score = model.evaluate_generator(data_generator, 250)\n",
    "\n",
    "print(score)"
   ]
  },
  {
   "cell_type": "code",
   "execution_count": 26,
   "metadata": {
    "scrolled": false
   },
   "outputs": [
    {
     "name": "stdout",
     "output_type": "stream",
     "text": [
      "[0.3772220200896263, 0.83259999752044678]\n"
     ]
    }
   ],
   "source": [
    "data_generator = dp.generate_batches(train_tokens, train_labels, 100, embd, 140)\n",
    "\n",
    "score = model.evaluate_generator(data_generator, 250)\n",
    "\n",
    "print(score)"
   ]
  },
  {
   "cell_type": "code",
   "execution_count": 6,
   "metadata": {},
   "outputs": [],
   "source": [
    "modelRNN = Sequential()\n",
    "modelRNN.add(LSTM(64, input_shape=(140, 100), return_sequences=True))\n",
    "modelRNN.add(BatchNormalization())\n",
    "modelRNN.add(Dropout(.2))\n",
    "\n",
    "modelRNN.add(LSTM(64, return_sequences=True))\n",
    "modelRNN.add(BatchNormalization())\n",
    "modelRNN.add(Dropout(.2))\n",
    "\n",
    "modelRNN.add(LSTM(32))\n",
    "modelRNN.add(BatchNormalization())\n",
    "modelRNN.add(Dropout(.2))\n",
    "\n",
    "modelRNN.add(Dense(100, activation='relu'))\n",
    "modelRNN.add(Dense(1, activation='sigmoid'))"
   ]
  },
  {
   "cell_type": "code",
   "execution_count": 7,
   "metadata": {
    "scrolled": false
   },
   "outputs": [
    {
     "name": "stdout",
     "output_type": "stream",
     "text": [
      "_________________________________________________________________\n",
      "Layer (type)                 Output Shape              Param #   \n",
      "=================================================================\n",
      "lstm_4 (LSTM)                (None, 140, 64)           42240     \n",
      "_________________________________________________________________\n",
      "batch_normalization_3 (Batch (None, 140, 64)           256       \n",
      "_________________________________________________________________\n",
      "dropout_3 (Dropout)          (None, 140, 64)           0         \n",
      "_________________________________________________________________\n",
      "lstm_5 (LSTM)                (None, 140, 64)           33024     \n",
      "_________________________________________________________________\n",
      "batch_normalization_4 (Batch (None, 140, 64)           256       \n",
      "_________________________________________________________________\n",
      "dropout_4 (Dropout)          (None, 140, 64)           0         \n",
      "_________________________________________________________________\n",
      "lstm_6 (LSTM)                (None, 32)                12416     \n",
      "_________________________________________________________________\n",
      "batch_normalization_5 (Batch (None, 32)                128       \n",
      "_________________________________________________________________\n",
      "dropout_5 (Dropout)          (None, 32)                0         \n",
      "_________________________________________________________________\n",
      "dense_1 (Dense)              (None, 100)               3300      \n",
      "_________________________________________________________________\n",
      "dense_2 (Dense)              (None, 1)                 101       \n",
      "=================================================================\n",
      "Total params: 91,721\n",
      "Trainable params: 91,401\n",
      "Non-trainable params: 320\n",
      "_________________________________________________________________\n"
     ]
    }
   ],
   "source": [
    "modelRNN.summary()"
   ]
  },
  {
   "cell_type": "code",
   "execution_count": 8,
   "metadata": {
    "collapsed": true
   },
   "outputs": [],
   "source": [
    "modelRNN.compile(optimizer='adam', loss='binary_crossentropy', metrics=['accuracy'])"
   ]
  },
  {
   "cell_type": "code",
   "execution_count": 12,
   "metadata": {},
   "outputs": [
    {
     "name": "stdout",
     "output_type": "stream",
     "text": [
      "Epoch 1/2\n",
      "250/250 [==============================] - 163s - loss: 0.4501 - acc: 0.7990   \n",
      "Epoch 2/2\n",
      "250/250 [==============================] - 154s - loss: 0.3868 - acc: 0.8306   \n"
     ]
    }
   ],
   "source": [
    "data_generator = dp.generate_batches(test_tokens, test_labels, 100, embd, 140)\n",
    "\n",
    "history = modelRNN.fit_generator(data_generator, 250, epochs=2)"
   ]
  },
  {
   "cell_type": "code",
   "execution_count": 13,
   "metadata": {
    "scrolled": false
   },
   "outputs": [
    {
     "name": "stdout",
     "output_type": "stream",
     "text": [
      "[0.36172615367174149, 0.85151999831199643]\n"
     ]
    }
   ],
   "source": [
    "data_generator = dp.generate_batches(test_tokens, test_labels, 100, embd, 140)\n",
    "\n",
    "score = modelRNN.evaluate_generator(data_generator, 250)\n",
    "\n",
    "print(score)"
   ]
  },
  {
   "cell_type": "code",
   "execution_count": 14,
   "metadata": {
    "scrolled": false
   },
   "outputs": [
    {
     "name": "stdout",
     "output_type": "stream",
     "text": [
      "[0.39784332531690597, 0.83775999951362612]\n"
     ]
    }
   ],
   "source": [
    "data_generator = dp.generate_batches(train_tokens, train_labels, 100, embd, 140)\n",
    "\n",
    "score = modelRNN.evaluate_generator(data_generator, 250)\n",
    "\n",
    "print(score)"
   ]
  },
  {
   "cell_type": "code",
   "execution_count": null,
   "metadata": {
    "collapsed": true
   },
   "outputs": [],
   "source": []
  }
 ],
 "metadata": {
  "kernelspec": {
   "display_name": "Python 3",
   "language": "python",
   "name": "python3"
  },
  "language_info": {
   "codemirror_mode": {
    "name": "ipython",
    "version": 3
   },
   "file_extension": ".py",
   "mimetype": "text/x-python",
   "name": "python",
   "nbconvert_exporter": "python",
   "pygments_lexer": "ipython3",
   "version": "3.5.4"
  }
 },
 "nbformat": 4,
 "nbformat_minor": 2
}
